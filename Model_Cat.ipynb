{
 "cells": [
  {
   "cell_type": "code",
   "execution_count": 30,
   "id": "7da7b612",
   "metadata": {},
   "outputs": [],
   "source": [
    "import numpy as np \n",
    "import pandas as pd \n",
    "\n",
    "from sklearn.metrics import accuracy_score\n",
    "from sklearn import metrics\n",
    "\n",
    "# importing models\n",
    "from sklearn.tree import DecisionTreeClassifier # Import Decision Tree Classifier\n",
    "from xgboost import XGBClassifier\n",
    "\n",
    "from sklearn.tree import DecisionTreeClassifier # Import Decision Tree Classifier\n",
    "from sklearn.ensemble import RandomForestClassifier\n",
    "from xgboost import XGBClassifier\n",
    "\n",
    "from sklearn.model_selection import train_test_split # Import train_test_split function\n",
    "\n",
    "from sklearn import metrics #Import scikit-learn metrics module for accuracy calculation\n",
    "\n",
    "from sklearn.metrics import f1_score\n",
    "from sklearn.model_selection import cross_val_score"
   ]
  },
  {
   "cell_type": "markdown",
   "id": "9bb7fd01",
   "metadata": {},
   "source": [
    "Read the train and test datasets"
   ]
  },
  {
   "cell_type": "code",
   "execution_count": 31,
   "id": "67bc748f",
   "metadata": {},
   "outputs": [],
   "source": [
    "train=pd.read_csv(\"train_I.csv\")\n",
    "test=pd.read_csv(\"test_I.csv\")"
   ]
  },
  {
   "cell_type": "markdown",
   "id": "fc02f9a8",
   "metadata": {},
   "source": [
    "check the count of null values in each column"
   ]
  },
  {
   "cell_type": "code",
   "execution_count": 32,
   "id": "670a91b3",
   "metadata": {},
   "outputs": [
    {
     "name": "stdout",
     "output_type": "stream",
     "text": [
      "MaxPartialCharge        420\n",
      "MinPartialCharge        420\n",
      "MaxAbsPartialCharge     420\n",
      "MinAbsPartialCharge     420\n",
      "BCUT2D_MWHI            3813\n",
      "BCUT2D_MWLOW           3813\n",
      "BCUT2D_CHGHI           3813\n",
      "BCUT2D_CHGLO           3813\n",
      "BCUT2D_LOGPHI          3813\n",
      "BCUT2D_LOGPLOW         3813\n",
      "BCUT2D_MRHI            3813\n",
      "BCUT2D_MRLOW           3813\n",
      "dtype: int64\n"
     ]
    }
   ],
   "source": [
    "null_counts = train.isnull().sum()\n",
    "# Filter for columns with non-zero null counts\n",
    "null_cols = null_counts[null_counts > 0]\n",
    "print(null_cols)"
   ]
  },
  {
   "cell_type": "markdown",
   "id": "c73b25d9",
   "metadata": {},
   "source": [
    "Fill the null values with mean value"
   ]
  },
  {
   "cell_type": "code",
   "execution_count": 33,
   "id": "ea39659a",
   "metadata": {},
   "outputs": [
    {
     "name": "stderr",
     "output_type": "stream",
     "text": [
      "/var/folders/cz/r8b553t535v1b2qw2sv9kd3c0000gn/T/ipykernel_4894/705866291.py:1: FutureWarning: Dropping of nuisance columns in DataFrame reductions (with 'numeric_only=None') is deprecated; in a future version this will raise TypeError.  Select only valid columns before calling the reduction.\n",
      "  train =train.fillna(train.mean())\n",
      "/var/folders/cz/r8b553t535v1b2qw2sv9kd3c0000gn/T/ipykernel_4894/705866291.py:2: FutureWarning: Dropping of nuisance columns in DataFrame reductions (with 'numeric_only=None') is deprecated; in a future version this will raise TypeError.  Select only valid columns before calling the reduction.\n",
      "  test=test.fillna(train.mean())\n"
     ]
    }
   ],
   "source": [
    "train =train.fillna(train.mean())\n",
    "test=test.fillna(train.mean())"
   ]
  },
  {
   "cell_type": "code",
   "execution_count": 34,
   "id": "b157ecb4",
   "metadata": {},
   "outputs": [
    {
     "name": "stdout",
     "output_type": "stream",
     "text": [
      "<class 'pandas.core.frame.DataFrame'>\n",
      "RangeIndex: 75377 entries, 0 to 75376\n",
      "Columns: 213 entries, MaxEStateIndex to Expected\n",
      "dtypes: float64(104), int64(106), object(3)\n",
      "memory usage: 122.5+ MB\n"
     ]
    }
   ],
   "source": [
    "train.info()"
   ]
  },
  {
   "cell_type": "markdown",
   "id": "f5839977",
   "metadata": {},
   "source": [
    "Drop the string columns from train and test dataset"
   ]
  },
  {
   "cell_type": "code",
   "execution_count": 35,
   "id": "939c5110",
   "metadata": {},
   "outputs": [],
   "source": [
    "train.drop([\"Id1\",\"Smiles\",\"Id\"],axis=1,inplace=True)\n",
    "test.drop([\"Id1\",\"Smiles\"],axis=1,inplace=True)"
   ]
  },
  {
   "cell_type": "code",
   "execution_count": 36,
   "id": "72bda628",
   "metadata": {},
   "outputs": [
    {
     "data": {
      "text/html": [
       "<div>\n",
       "<style scoped>\n",
       "    .dataframe tbody tr th:only-of-type {\n",
       "        vertical-align: middle;\n",
       "    }\n",
       "\n",
       "    .dataframe tbody tr th {\n",
       "        vertical-align: top;\n",
       "    }\n",
       "\n",
       "    .dataframe thead th {\n",
       "        text-align: right;\n",
       "    }\n",
       "</style>\n",
       "<table border=\"1\" class=\"dataframe\">\n",
       "  <thead>\n",
       "    <tr style=\"text-align: right;\">\n",
       "      <th></th>\n",
       "      <th>MaxEStateIndex</th>\n",
       "      <th>MinEStateIndex</th>\n",
       "      <th>MaxAbsEStateIndex</th>\n",
       "      <th>MinAbsEStateIndex</th>\n",
       "      <th>qed</th>\n",
       "      <th>MolWt</th>\n",
       "      <th>HeavyAtomMolWt</th>\n",
       "      <th>ExactMolWt</th>\n",
       "      <th>NumValenceElectrons</th>\n",
       "      <th>NumRadicalElectrons</th>\n",
       "      <th>...</th>\n",
       "      <th>fr_sulfone</th>\n",
       "      <th>fr_term_acetylene</th>\n",
       "      <th>fr_tetrazole</th>\n",
       "      <th>fr_thiazole</th>\n",
       "      <th>fr_thiocyan</th>\n",
       "      <th>fr_thiophene</th>\n",
       "      <th>fr_unbrch_alkane</th>\n",
       "      <th>fr_urea</th>\n",
       "      <th>Id2</th>\n",
       "      <th>Expected</th>\n",
       "    </tr>\n",
       "  </thead>\n",
       "  <tbody>\n",
       "    <tr>\n",
       "      <th>0</th>\n",
       "      <td>9.316200</td>\n",
       "      <td>-1.533785</td>\n",
       "      <td>9.316200</td>\n",
       "      <td>0.150485</td>\n",
       "      <td>0.794714</td>\n",
       "      <td>317.599</td>\n",
       "      <td>306.511</td>\n",
       "      <td>315.982463</td>\n",
       "      <td>100</td>\n",
       "      <td>0</td>\n",
       "      <td>...</td>\n",
       "      <td>0</td>\n",
       "      <td>0</td>\n",
       "      <td>0</td>\n",
       "      <td>0</td>\n",
       "      <td>0</td>\n",
       "      <td>0</td>\n",
       "      <td>0</td>\n",
       "      <td>0</td>\n",
       "      <td>1644</td>\n",
       "      <td>2</td>\n",
       "    </tr>\n",
       "    <tr>\n",
       "      <th>1</th>\n",
       "      <td>10.532611</td>\n",
       "      <td>0.333788</td>\n",
       "      <td>10.532611</td>\n",
       "      <td>0.333788</td>\n",
       "      <td>0.516641</td>\n",
       "      <td>156.269</td>\n",
       "      <td>136.109</td>\n",
       "      <td>156.151415</td>\n",
       "      <td>66</td>\n",
       "      <td>0</td>\n",
       "      <td>...</td>\n",
       "      <td>0</td>\n",
       "      <td>0</td>\n",
       "      <td>0</td>\n",
       "      <td>0</td>\n",
       "      <td>0</td>\n",
       "      <td>0</td>\n",
       "      <td>4</td>\n",
       "      <td>0</td>\n",
       "      <td>2451</td>\n",
       "      <td>2</td>\n",
       "    </tr>\n",
       "    <tr>\n",
       "      <th>2</th>\n",
       "      <td>2.433032</td>\n",
       "      <td>0.000000</td>\n",
       "      <td>2.433032</td>\n",
       "      <td>0.000000</td>\n",
       "      <td>0.251327</td>\n",
       "      <td>362.086</td>\n",
       "      <td>313.702</td>\n",
       "      <td>361.347528</td>\n",
       "      <td>148</td>\n",
       "      <td>0</td>\n",
       "      <td>...</td>\n",
       "      <td>0</td>\n",
       "      <td>0</td>\n",
       "      <td>0</td>\n",
       "      <td>0</td>\n",
       "      <td>0</td>\n",
       "      <td>0</td>\n",
       "      <td>12</td>\n",
       "      <td>0</td>\n",
       "      <td>1384</td>\n",
       "      <td>2</td>\n",
       "    </tr>\n",
       "    <tr>\n",
       "      <th>3</th>\n",
       "      <td>10.355080</td>\n",
       "      <td>-0.613825</td>\n",
       "      <td>10.355080</td>\n",
       "      <td>0.282361</td>\n",
       "      <td>0.487998</td>\n",
       "      <td>255.665</td>\n",
       "      <td>245.585</td>\n",
       "      <td>255.052302</td>\n",
       "      <td>90</td>\n",
       "      <td>0</td>\n",
       "      <td>...</td>\n",
       "      <td>0</td>\n",
       "      <td>0</td>\n",
       "      <td>0</td>\n",
       "      <td>0</td>\n",
       "      <td>0</td>\n",
       "      <td>0</td>\n",
       "      <td>0</td>\n",
       "      <td>0</td>\n",
       "      <td>16</td>\n",
       "      <td>2</td>\n",
       "    </tr>\n",
       "    <tr>\n",
       "      <th>4</th>\n",
       "      <td>0.000000</td>\n",
       "      <td>0.000000</td>\n",
       "      <td>0.000000</td>\n",
       "      <td>0.000000</td>\n",
       "      <td>0.237972</td>\n",
       "      <td>149.894</td>\n",
       "      <td>149.894</td>\n",
       "      <td>149.894242</td>\n",
       "      <td>8</td>\n",
       "      <td>0</td>\n",
       "      <td>...</td>\n",
       "      <td>0</td>\n",
       "      <td>0</td>\n",
       "      <td>0</td>\n",
       "      <td>0</td>\n",
       "      <td>0</td>\n",
       "      <td>0</td>\n",
       "      <td>0</td>\n",
       "      <td>0</td>\n",
       "      <td>1856</td>\n",
       "      <td>2</td>\n",
       "    </tr>\n",
       "    <tr>\n",
       "      <th>...</th>\n",
       "      <td>...</td>\n",
       "      <td>...</td>\n",
       "      <td>...</td>\n",
       "      <td>...</td>\n",
       "      <td>...</td>\n",
       "      <td>...</td>\n",
       "      <td>...</td>\n",
       "      <td>...</td>\n",
       "      <td>...</td>\n",
       "      <td>...</td>\n",
       "      <td>...</td>\n",
       "      <td>...</td>\n",
       "      <td>...</td>\n",
       "      <td>...</td>\n",
       "      <td>...</td>\n",
       "      <td>...</td>\n",
       "      <td>...</td>\n",
       "      <td>...</td>\n",
       "      <td>...</td>\n",
       "      <td>...</td>\n",
       "      <td>...</td>\n",
       "    </tr>\n",
       "    <tr>\n",
       "      <th>75372</th>\n",
       "      <td>11.460021</td>\n",
       "      <td>-3.868472</td>\n",
       "      <td>11.460021</td>\n",
       "      <td>0.053611</td>\n",
       "      <td>0.712426</td>\n",
       "      <td>230.245</td>\n",
       "      <td>220.165</td>\n",
       "      <td>230.036128</td>\n",
       "      <td>82</td>\n",
       "      <td>0</td>\n",
       "      <td>...</td>\n",
       "      <td>0</td>\n",
       "      <td>0</td>\n",
       "      <td>0</td>\n",
       "      <td>0</td>\n",
       "      <td>0</td>\n",
       "      <td>0</td>\n",
       "      <td>0</td>\n",
       "      <td>0</td>\n",
       "      <td>33</td>\n",
       "      <td>2</td>\n",
       "    </tr>\n",
       "    <tr>\n",
       "      <th>75373</th>\n",
       "      <td>5.928972</td>\n",
       "      <td>-2.841623</td>\n",
       "      <td>5.928972</td>\n",
       "      <td>0.082346</td>\n",
       "      <td>0.720533</td>\n",
       "      <td>313.747</td>\n",
       "      <td>296.611</td>\n",
       "      <td>313.041677</td>\n",
       "      <td>104</td>\n",
       "      <td>0</td>\n",
       "      <td>...</td>\n",
       "      <td>0</td>\n",
       "      <td>0</td>\n",
       "      <td>0</td>\n",
       "      <td>0</td>\n",
       "      <td>0</td>\n",
       "      <td>0</td>\n",
       "      <td>0</td>\n",
       "      <td>0</td>\n",
       "      <td>1632</td>\n",
       "      <td>1</td>\n",
       "    </tr>\n",
       "    <tr>\n",
       "      <th>75374</th>\n",
       "      <td>4.975926</td>\n",
       "      <td>0.848333</td>\n",
       "      <td>4.975926</td>\n",
       "      <td>0.848333</td>\n",
       "      <td>0.596343</td>\n",
       "      <td>167.258</td>\n",
       "      <td>162.218</td>\n",
       "      <td>166.986341</td>\n",
       "      <td>50</td>\n",
       "      <td>0</td>\n",
       "      <td>...</td>\n",
       "      <td>0</td>\n",
       "      <td>0</td>\n",
       "      <td>0</td>\n",
       "      <td>1</td>\n",
       "      <td>0</td>\n",
       "      <td>0</td>\n",
       "      <td>0</td>\n",
       "      <td>0</td>\n",
       "      <td>1373</td>\n",
       "      <td>1</td>\n",
       "    </tr>\n",
       "    <tr>\n",
       "      <th>75375</th>\n",
       "      <td>10.241948</td>\n",
       "      <td>0.324028</td>\n",
       "      <td>10.241948</td>\n",
       "      <td>0.324028</td>\n",
       "      <td>0.519485</td>\n",
       "      <td>128.215</td>\n",
       "      <td>112.087</td>\n",
       "      <td>128.120115</td>\n",
       "      <td>54</td>\n",
       "      <td>0</td>\n",
       "      <td>...</td>\n",
       "      <td>0</td>\n",
       "      <td>0</td>\n",
       "      <td>0</td>\n",
       "      <td>0</td>\n",
       "      <td>0</td>\n",
       "      <td>0</td>\n",
       "      <td>0</td>\n",
       "      <td>0</td>\n",
       "      <td>2</td>\n",
       "      <td>2</td>\n",
       "    </tr>\n",
       "    <tr>\n",
       "      <th>75376</th>\n",
       "      <td>12.552405</td>\n",
       "      <td>-0.188577</td>\n",
       "      <td>12.552405</td>\n",
       "      <td>0.048913</td>\n",
       "      <td>0.165457</td>\n",
       "      <td>636.962</td>\n",
       "      <td>572.450</td>\n",
       "      <td>636.486609</td>\n",
       "      <td>258</td>\n",
       "      <td>0</td>\n",
       "      <td>...</td>\n",
       "      <td>0</td>\n",
       "      <td>0</td>\n",
       "      <td>0</td>\n",
       "      <td>0</td>\n",
       "      <td>0</td>\n",
       "      <td>0</td>\n",
       "      <td>5</td>\n",
       "      <td>0</td>\n",
       "      <td>2</td>\n",
       "      <td>1</td>\n",
       "    </tr>\n",
       "  </tbody>\n",
       "</table>\n",
       "<p>75377 rows × 210 columns</p>\n",
       "</div>"
      ],
      "text/plain": [
       "       MaxEStateIndex  MinEStateIndex  MaxAbsEStateIndex  MinAbsEStateIndex  \\\n",
       "0            9.316200       -1.533785           9.316200           0.150485   \n",
       "1           10.532611        0.333788          10.532611           0.333788   \n",
       "2            2.433032        0.000000           2.433032           0.000000   \n",
       "3           10.355080       -0.613825          10.355080           0.282361   \n",
       "4            0.000000        0.000000           0.000000           0.000000   \n",
       "...               ...             ...                ...                ...   \n",
       "75372       11.460021       -3.868472          11.460021           0.053611   \n",
       "75373        5.928972       -2.841623           5.928972           0.082346   \n",
       "75374        4.975926        0.848333           4.975926           0.848333   \n",
       "75375       10.241948        0.324028          10.241948           0.324028   \n",
       "75376       12.552405       -0.188577          12.552405           0.048913   \n",
       "\n",
       "            qed    MolWt  HeavyAtomMolWt  ExactMolWt  NumValenceElectrons  \\\n",
       "0      0.794714  317.599         306.511  315.982463                  100   \n",
       "1      0.516641  156.269         136.109  156.151415                   66   \n",
       "2      0.251327  362.086         313.702  361.347528                  148   \n",
       "3      0.487998  255.665         245.585  255.052302                   90   \n",
       "4      0.237972  149.894         149.894  149.894242                    8   \n",
       "...         ...      ...             ...         ...                  ...   \n",
       "75372  0.712426  230.245         220.165  230.036128                   82   \n",
       "75373  0.720533  313.747         296.611  313.041677                  104   \n",
       "75374  0.596343  167.258         162.218  166.986341                   50   \n",
       "75375  0.519485  128.215         112.087  128.120115                   54   \n",
       "75376  0.165457  636.962         572.450  636.486609                  258   \n",
       "\n",
       "       NumRadicalElectrons  ...  fr_sulfone  fr_term_acetylene  fr_tetrazole  \\\n",
       "0                        0  ...           0                  0             0   \n",
       "1                        0  ...           0                  0             0   \n",
       "2                        0  ...           0                  0             0   \n",
       "3                        0  ...           0                  0             0   \n",
       "4                        0  ...           0                  0             0   \n",
       "...                    ...  ...         ...                ...           ...   \n",
       "75372                    0  ...           0                  0             0   \n",
       "75373                    0  ...           0                  0             0   \n",
       "75374                    0  ...           0                  0             0   \n",
       "75375                    0  ...           0                  0             0   \n",
       "75376                    0  ...           0                  0             0   \n",
       "\n",
       "       fr_thiazole  fr_thiocyan  fr_thiophene  fr_unbrch_alkane  fr_urea  \\\n",
       "0                0            0             0                 0        0   \n",
       "1                0            0             0                 4        0   \n",
       "2                0            0             0                12        0   \n",
       "3                0            0             0                 0        0   \n",
       "4                0            0             0                 0        0   \n",
       "...            ...          ...           ...               ...      ...   \n",
       "75372            0            0             0                 0        0   \n",
       "75373            0            0             0                 0        0   \n",
       "75374            1            0             0                 0        0   \n",
       "75375            0            0             0                 0        0   \n",
       "75376            0            0             0                 5        0   \n",
       "\n",
       "        Id2  Expected  \n",
       "0      1644         2  \n",
       "1      2451         2  \n",
       "2      1384         2  \n",
       "3        16         2  \n",
       "4      1856         2  \n",
       "...     ...       ...  \n",
       "75372    33         2  \n",
       "75373  1632         1  \n",
       "75374  1373         1  \n",
       "75375     2         2  \n",
       "75376     2         1  \n",
       "\n",
       "[75377 rows x 210 columns]"
      ]
     },
     "execution_count": 36,
     "metadata": {},
     "output_type": "execute_result"
    }
   ],
   "source": [
    "train"
   ]
  },
  {
   "cell_type": "markdown",
   "id": "77d2f4d8",
   "metadata": {},
   "source": [
    "get the columns with high correlation"
   ]
  },
  {
   "cell_type": "code",
   "execution_count": 37,
   "id": "5aa39243",
   "metadata": {},
   "outputs": [],
   "source": [
    "corr = train.corr()\n",
    "cols = []\n",
    "for i in range(len(corr.columns)):\n",
    "    for j in range(i):\n",
    "        if abs(corr.iloc[i, j]) > 0.8:\n",
    "            cols.append((corr.columns[i], corr.columns[j]))\n",
    "col1 = [x[0] for x in cols ]\n",
    "col2 = [x[1] for x in cols ]\n",
    "feature1=list(set(col1))\n",
    "feature2=list(set(col2))\n",
    "#feature2.append(\"MinPartialCharge\")"
   ]
  },
  {
   "cell_type": "markdown",
   "id": "fec8dd57",
   "metadata": {},
   "source": [
    "Drop the columns having high correlation"
   ]
  },
  {
   "cell_type": "code",
   "execution_count": 38,
   "id": "d084e92d",
   "metadata": {},
   "outputs": [],
   "source": [
    "train.drop(feature2,axis=1,inplace=True)\n",
    "test. drop(feature2,axis=1,inplace=True)"
   ]
  },
  {
   "cell_type": "code",
   "execution_count": 39,
   "id": "eef555b3",
   "metadata": {},
   "outputs": [
    {
     "name": "stdout",
     "output_type": "stream",
     "text": [
      "<class 'pandas.core.frame.DataFrame'>\n",
      "RangeIndex: 75377 entries, 0 to 75376\n",
      "Columns: 148 entries, MaxAbsEStateIndex to Expected\n",
      "dtypes: float64(65), int64(83)\n",
      "memory usage: 85.1 MB\n"
     ]
    }
   ],
   "source": [
    "train.info()"
   ]
  },
  {
   "cell_type": "markdown",
   "id": "5e519f10",
   "metadata": {},
   "source": [
    "Create X by dropping the expected column and y with expected column to train and predict the model"
   ]
  },
  {
   "cell_type": "code",
   "execution_count": 40,
   "id": "178ec34f",
   "metadata": {},
   "outputs": [],
   "source": [
    "X=train.drop([\"Expected\",\"Id2\"],axis=1)\n",
    "y=train[\"Expected\"]"
   ]
  },
  {
   "cell_type": "markdown",
   "id": "87c78e99",
   "metadata": {},
   "source": [
    "Used GridsearchCV to get the best number of features to provide as input to Recursive feature elimination method."
   ]
  },
  {
   "cell_type": "markdown",
   "id": "86cdf1b0",
   "metadata": {},
   "source": [
    "from sklearn.tree import DecisionTreeClassifier\n",
    "from sklearn.feature_selection import RFE\n",
    "from sklearn.model_selection import GridSearchCV\n",
    "from sklearn.metrics import accuracy_score\n",
    "\n",
    "# X is the feature matrix and y is the target variable\n",
    "X_train, X_test, y_train, y_test = train_test_split(X, y, test_size=0.2, random_state=42)\n",
    "\n",
    "# Create a decision tree classifier\n",
    "clf = DecisionTreeClassifier()\n",
    "\n",
    "# Create a recursive feature elimination object\n",
    "rfe = RFE(estimator=clf, step=1)\n",
    "\n",
    "# Set up the parameter grid\n",
    "param_grid = {'n_features_to_select': [30,40,50,60,70]}\n",
    "\n",
    "# Perform a grid search over the parameter grid\n",
    "grid_search = GridSearchCV(estimator=rfe, param_grid=param_grid, cv=5, scoring='accuracy')\n",
    "\n",
    "# Fit the grid search object to the training data\n",
    "grid_search.fit(X_train, y_train)\n",
    "\n",
    "# Extract the best estimator and the optimal value of n_features_to_select\n",
    "best_estimator = grid_search.best_estimator_\n",
    "optimal_n_features = grid_search.best_params_['n_features_to_select']\n",
    "\n",
    "# Fit the best estimator to the training data\n",
    "best_estimator.fit(X_train, y_train)\n",
    "\n",
    "# Make predictions on the test data using the selected features\n",
    "y_pred = best_estimator.predict(X_test)\n",
    "\n",
    "# Evaluate the accuracy of the classifier\n",
    "accuracy = accuracy_score(y_test, y_pred)\n",
    "print(\"Accuracy:\", accuracy)\n"
   ]
  },
  {
   "cell_type": "markdown",
   "id": "c95a3f82",
   "metadata": {},
   "source": [
    "selected 60 columns using Recursive feature elimination. The parameter n_features_to_select for RFE is selected based on the output from gridsearchCV"
   ]
  },
  {
   "cell_type": "markdown",
   "id": "ba76195f",
   "metadata": {},
   "source": [
    "from sklearn.tree import DecisionTreeClassifier\n",
    "from sklearn.feature_selection import RFE\n",
    "from sklearn.model_selection import train_test_split\n",
    "from sklearn.metrics import accuracy_score\n",
    "\n",
    "# X is the feature matrix and y is the target variable\n",
    "X_train, X_test, y_train, y_test = train_test_split(X, y, test_size=0.2, random_state=42)\n",
    "\n",
    "# Create a decision tree classifier\n",
    "clf = DecisionTreeClassifier()\n",
    "\n",
    "# Create a recursive feature elimination object\n",
    "rfe = RFE(estimator=clf, n_features_to_select=60, step=1)\n",
    "\n",
    "# Fit the recursive feature elimination object to the training data\n",
    "rfe.fit(X_train, y_train)\n",
    "\n",
    "# Extract the selected features\n",
    "selected_features = X_train.columns[rfe.support_]\n",
    "\n",
    "# Fit the decision tree classifier to the selected features\n",
    "clf.fit(X_train[selected_features], y_train)\n",
    "\n",
    "# Make predictions on the test data using the selected features\n",
    "y_pred = clf.predict(X_test[selected_features])\n",
    "\n",
    "# Evaluate the accuracy of the classifier\n",
    "accuracy = accuracy_score(y_test, y_pred)\n",
    "print(\"Accuracy:\", accuracy)\n"
   ]
  },
  {
   "cell_type": "markdown",
   "id": "9f96a9e4",
   "metadata": {},
   "source": [
    "select the features received from Recursive feature elimination method and set X and y values"
   ]
  },
  {
   "cell_type": "code",
   "execution_count": 41,
   "id": "c3dd98b9",
   "metadata": {},
   "outputs": [],
   "source": [
    "selected_features =['MaxAbsEStateIndex', 'MinAbsEStateIndex', 'qed', 'MinPartialCharge',\n",
    "       'MaxAbsPartialCharge', 'MinAbsPartialCharge', 'FpDensityMorgan3',\n",
    "       'BCUT2D_MWHI', 'BCUT2D_MWLOW', 'BCUT2D_CHGLO', 'BCUT2D_LOGPHI',\n",
    "       'BCUT2D_LOGPLOW', 'BCUT2D_MRHI', 'BCUT2D_MRLOW', 'BalabanJ', 'Chi4v',\n",
    "       'HallKierAlpha', 'Ipc', 'Kappa2', 'Kappa3', 'PEOE_VSA1', 'PEOE_VSA10',\n",
    "       'PEOE_VSA12', 'PEOE_VSA14', 'PEOE_VSA5', 'PEOE_VSA6', 'PEOE_VSA7',\n",
    "       'PEOE_VSA8', 'PEOE_VSA9', 'SMR_VSA1', 'SMR_VSA6', 'SlogP_VSA1',\n",
    "       'SlogP_VSA11', 'SlogP_VSA2', 'SlogP_VSA5', 'EState_VSA10',\n",
    "       'EState_VSA2', 'EState_VSA3', 'EState_VSA4', 'EState_VSA5',\n",
    "       'EState_VSA6', 'EState_VSA7', 'EState_VSA8', 'VSA_EState10',\n",
    "       'VSA_EState3', 'VSA_EState4', 'VSA_EState5', 'VSA_EState7',\n",
    "       'VSA_EState8', 'VSA_EState9', 'FractionCSP3', 'NumHeteroatoms',\n",
    "       'MolLogP', 'MolMR', 'fr_allylic_oxid', 'fr_aniline', 'fr_benzene',\n",
    "       'fr_ester', 'fr_nitro_arom', 'fr_thiazole',\"Id2\"]"
   ]
  },
  {
   "cell_type": "code",
   "execution_count": 42,
   "id": "7ec6eb6d",
   "metadata": {},
   "outputs": [],
   "source": [
    "X=train[selected_features]\n",
    "y=train[\"Expected\"]"
   ]
  },
  {
   "cell_type": "markdown",
   "id": "29707aa2",
   "metadata": {},
   "source": [
    "Initialized catBoostClassifier and trained the model. Calculated the f1 score for internal validation."
   ]
  },
  {
   "cell_type": "code",
   "execution_count": 43,
   "id": "7418d104",
   "metadata": {},
   "outputs": [
    {
     "name": "stdout",
     "output_type": "stream",
     "text": [
      "Accuracy: 91.26%\n",
      "0.666497975708502\n",
      "Accuracy: 0.9125762801804193\n"
     ]
    }
   ],
   "source": [
    "from catboost import CatBoostClassifier\n",
    "X_train, X_test, y_train, y_test = train_test_split(X, y, test_size=0.2, random_state=42)\n",
    "model = CatBoostClassifier(iterations=27000, learning_rate=0.1, depth=6, l2_leaf_reg=3, loss_function='Logloss')\n",
    "model.fit(X_train, y_train, verbose=False)\n",
    "y_pred = model.predict(X_test)\n",
    "accuracy = accuracy_score(y_test, y_pred)\n",
    "print(\"Accuracy: {:.2f}%\".format(accuracy*100))\n",
    "f1= f1_score(y_test, y_pred)\n",
    "print(f1)\n",
    "print(\"Accuracy:\",metrics.accuracy_score(y_test, y_pred))\n"
   ]
  },
  {
   "cell_type": "markdown",
   "id": "67e78d34",
   "metadata": {},
   "source": [
    "Predict the values using test dataset and create submission file using to_csv method."
   ]
  },
  {
   "cell_type": "code",
   "execution_count": 44,
   "id": "f32bdf57",
   "metadata": {},
   "outputs": [
    {
     "data": {
      "text/plain": [
       "(10994, 2)"
      ]
     },
     "execution_count": 44,
     "metadata": {},
     "output_type": "execute_result"
    }
   ],
   "source": [
    "x=test[\"x\"]\n",
    "test.drop(\"x\",axis=1,inplace=True)\n",
    "y_pred=model.predict(test[selected_features])\n",
    "result = pd.DataFrame({ 'Id': x, 'Predicted': y_pred})\n",
    "result.to_csv(\"final10.csv\", index=False)\n",
    "result.head(10)\n",
    "result.shape"
   ]
  },
  {
   "cell_type": "code",
   "execution_count": null,
   "id": "f1b5fc9e",
   "metadata": {},
   "outputs": [],
   "source": []
  }
 ],
 "metadata": {
  "kernelspec": {
   "display_name": "Python 3 (ipykernel)",
   "language": "python",
   "name": "python3"
  },
  "language_info": {
   "codemirror_mode": {
    "name": "ipython",
    "version": 3
   },
   "file_extension": ".py",
   "mimetype": "text/x-python",
   "name": "python",
   "nbconvert_exporter": "python",
   "pygments_lexer": "ipython3",
   "version": "3.9.13"
  }
 },
 "nbformat": 4,
 "nbformat_minor": 5
}
